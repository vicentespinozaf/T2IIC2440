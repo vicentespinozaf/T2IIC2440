{
 "cells": [
  {
   "attachments": {},
   "cell_type": "markdown",
   "metadata": {},
   "source": [
    "# Tarea 2 PDM - Vicente Espinoza y Marcelo Vargas - Pregunta 2"
   ]
  },
  {
   "cell_type": "code",
   "execution_count": 1,
   "metadata": {},
   "outputs": [
    {
     "name": "stdout",
     "output_type": "stream",
     "text": [
      "Requirement already satisfied: pyspark in c:\\users\\vicente\\appdata\\local\\packages\\pythonsoftwarefoundation.python.3.9_qbz5n2kfra8p0\\localcache\\local-packages\\python39\\site-packages (3.4.1)\n",
      "Requirement already satisfied: py4j==0.10.9.7 in c:\\users\\vicente\\appdata\\local\\packages\\pythonsoftwarefoundation.python.3.9_qbz5n2kfra8p0\\localcache\\local-packages\\python39\\site-packages (from pyspark) (0.10.9.7)\n"
     ]
    },
    {
     "name": "stderr",
     "output_type": "stream",
     "text": [
      "WARNING: You are using pip version 22.0.4; however, version 23.1.2 is available.\n",
      "You should consider upgrading via the 'C:\\Users\\Vicente\\AppData\\Local\\Microsoft\\WindowsApps\\PythonSoftwareFoundation.Python.3.9_qbz5n2kfra8p0\\python.exe -m pip install --upgrade pip' command.\n"
     ]
    }
   ],
   "source": [
    "!pip install pyspark"
   ]
  },
  {
   "attachments": {},
   "cell_type": "markdown",
   "metadata": {},
   "source": []
  },
  {
   "cell_type": "code",
   "execution_count": 6,
   "metadata": {},
   "outputs": [],
   "source": [
    "from pyspark import SparkContext\n",
    "\n",
    "# Crear un SparkContext\n",
    "sc = SparkContext(\"local\", \"PageRank\")"
   ]
  },
  {
   "cell_type": "code",
   "execution_count": 7,
   "metadata": {},
   "outputs": [],
   "source": [
    "# Función para encontrar el costo del camino mas corto a cada nodo desde un nodo inicial\n",
    "def single_shortest_path(nodo_inicial, nodes, edges):\n",
    "  # Creamos una lista con tuplas (nodo, costo) con los nodos a los que les corresponde enviar un mensaje en la iteración actual\n",
    "  nodos_actuales = [(nodo_inicial, 0)]\n",
    "\n",
    "  # Creamos un RDD para guardar los costos acumulados para cada nodo\n",
    "  acumulated_cost = nodes.map(lambda x: (x, 0) if x == nodo_inicial else (x, float('inf')))\n",
    "\n",
    "  # Ejecutamos el algoritmo hasta que encuentre por primera los costos mas cortos\n",
    "  while True:\n",
    "    lista_auxiliar = []\n",
    "\n",
    "    # Iteramos sobre los nodos a los que les corresponde enviar un mensaje\n",
    "    for nodo, costo in nodos_actuales:\n",
    "      # Encontramos los hijos del nodo actual\n",
    "      hijos = edges.filter(lambda x: x[0] == nodo).map(lambda x: (x[1], x[2] + costo))\n",
    "      # Actualizamos los costos acumulados\n",
    "      new_acumulated_cost = acumulated_cost.leftOuterJoin(hijos).map(lambda x: check_min(x))\n",
    "      # Verificamos que el nuevo RDD de costos acumulados es diferente al de la iteración anterior\n",
    "      common_cost = acumulated_cost.intersection(new_acumulated_cost)\n",
    "      #  Se termina el algoritmo si no hay cambios\n",
    "      if common_cost.count() == acumulated_cost.count():\n",
    "        return acumulated_cost\n",
    "\n",
    "      print(acumulated_cost.collect())\n",
    "\n",
    "      # Si hay cambios actualizamos la variable original de costos acumulados\n",
    "      acumulated_cost = new_acumulated_cost\n",
    "\n",
    "      lista_auxiliar += hijos.collect()\n",
    "    nodos_actuales = lista_auxiliar\n",
    "\n",
    "# Función que actualiza el costo de un nodo si es que es menor que el costo antiguo\n",
    "def check_min(x):\n",
    "  old_cost, new_cost = x[1][0], x[1][1]\n",
    "  if new_cost is not None:\n",
    "    return (x[0], min(old_cost, new_cost))\n",
    "  else:\n",
    "    return (x[0], old_cost)"
   ]
  },
  {
   "cell_type": "code",
   "execution_count": 8,
   "metadata": {},
   "outputs": [
    {
     "name": "stdout",
     "output_type": "stream",
     "text": [
      "[(1, 0), (2, inf), (3, inf), (4, inf)]\n",
      "[(2, 10), (4, inf), (1, 0), (3, inf)]\n"
     ]
    },
    {
     "data": {
      "text/plain": [
       "[(3, 13), (4, 34), (1, 0), (2, 10)]"
      ]
     },
     "execution_count": 8,
     "metadata": {},
     "output_type": "execute_result"
    }
   ],
   "source": [
    "# Creamos un RDD con los nodos y otro con sus aristas\n",
    "nodes = sc.parallelize([1, 2, 3, 4])\n",
    "edges = sc.parallelize([(1, 2, 10), (2, 3, 3), (2, 4, 24), (3, 2, 1)])\n",
    "\n",
    "# Establecemos un nodo de partida\n",
    "nodo_inicial = 1\n",
    "\n",
    "# Llamamos a la función\n",
    "single_shortest_path(nodo_inicial, nodes, edges).collect()"
   ]
  },
  {
   "cell_type": "code",
   "execution_count": null,
   "metadata": {},
   "outputs": [],
   "source": []
  }
 ],
 "metadata": {
  "kernelspec": {
   "display_name": "Python 3",
   "language": "python",
   "name": "python3"
  },
  "language_info": {
   "codemirror_mode": {
    "name": "ipython",
    "version": 3
   },
   "file_extension": ".py",
   "mimetype": "text/x-python",
   "name": "python",
   "nbconvert_exporter": "python",
   "pygments_lexer": "ipython3",
   "version": "3.9.13"
  },
  "orig_nbformat": 4
 },
 "nbformat": 4,
 "nbformat_minor": 2
}
